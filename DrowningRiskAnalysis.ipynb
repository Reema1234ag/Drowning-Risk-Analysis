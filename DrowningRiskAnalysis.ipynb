{
  "nbformat": 4,
  "nbformat_minor": 0,
  "metadata": {
    "colab": {
      "name": "DrowningRiskAnalysis.ipynb",
      "provenance": [],
      "collapsed_sections": [],
      "toc_visible": true,
      "include_colab_link": true
    },
    "kernelspec": {
      "name": "python3",
      "display_name": "Python 3"
    },
    "accelerator": "GPU"
  },
  "cells": [
    {
      "cell_type": "markdown",
      "metadata": {
        "id": "view-in-github",
        "colab_type": "text"
      },
      "source": [
        "<a href=\"https://colab.research.google.com/github/Reema1234ag/Drowning-Risk-Analysis/blob/master/DrowningRiskAnalysis.ipynb\" target=\"_parent\"><img src=\"https://colab.research.google.com/assets/colab-badge.svg\" alt=\"Open In Colab\"/></a>"
      ]
    },
    {
      "cell_type": "code",
      "metadata": {
        "colab": {
          "base_uri": "https://localhost:8080/"
        },
        "id": "910p03-nfBQ9",
        "outputId": "648093dd-65fa-4c79-a50f-150bf9e71615"
      },
      "source": [
        "!git clone https://github.com/Reema1234ag/Drowning-Risk-Analysis.git"
      ],
      "execution_count": 1,
      "outputs": [
        {
          "output_type": "stream",
          "text": [
            "Cloning into 'Drowning-Risk-Analysis'...\n",
            "remote: Enumerating objects: 44, done.\u001b[K\n",
            "remote: Counting objects: 100% (44/44), done.\u001b[K\n",
            "remote: Compressing objects: 100% (31/31), done.\u001b[K\n",
            "remote: Total 3365 (delta 14), reused 22 (delta 8), pack-reused 3321\u001b[K\n",
            "Receiving objects: 100% (3365/3365), 862.81 MiB | 39.21 MiB/s, done.\n",
            "Resolving deltas: 100% (1288/1288), done.\n",
            "Checking out files: 100% (3084/3084), done.\n"
          ],
          "name": "stdout"
        }
      ]
    },
    {
      "cell_type": "code",
      "metadata": {
        "id": "AyBggiHxfX7N",
        "outputId": "70249b7f-d9de-49c9-ed82-e5745231b218",
        "colab": {
          "base_uri": "https://localhost:8080/"
        }
      },
      "source": [
        "!python /content/Drowning-Risk-Analysis/VideoDataset/install_ufc11.py"
      ],
      "execution_count": 3,
      "outputs": [
        {
          "output_type": "stream",
          "text": [
            "Downloading https://www.crcv.ucf.edu/data/YouTube_DataSet_Annotated.zip\n",
            "Done downloading, start extracting.\n",
            "Done extracting.\n",
            "Writing train and test CSV file...\n",
            "Done.\n"
          ],
          "name": "stdout"
        }
      ]
    }
  ]
}